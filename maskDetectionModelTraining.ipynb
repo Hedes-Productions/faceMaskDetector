{
 "cells": [
  {
   "cell_type": "code",
   "execution_count": 1,
   "metadata": {},
   "outputs": [],
   "source": [
    "import numpy\n",
    "import os\n",
    "import shutil\n",
    "import os\n",
    "from keras.preprocessing.image import ImageDataGenerator\n",
    "import random\n",
    "from keras.applications import mobilenet_v2\n",
    "from keras.layers import Dense\n",
    "from keras.models import Model\n",
    "import tensorflow as tf\n"
   ]
  },
  {
   "cell_type": "code",
   "execution_count": null,
   "metadata": {},
   "outputs": [],
   "source": [
    "# tf.config.list_physical_devices('GPU')"
   ]
  },
  {
   "cell_type": "code",
   "execution_count": null,
   "metadata": {},
   "outputs": [],
   "source": [
    "import splitfolders"
   ]
  },
  {
   "cell_type": "code",
   "execution_count": null,
   "metadata": {},
   "outputs": [],
   "source": [
    "# tf.config.experimental.set_memory_growth(physical_devices[0],True)"
   ]
  },
  {
   "cell_type": "code",
   "execution_count": null,
   "metadata": {},
   "outputs": [
    {
     "data": {
      "text/plain": [
       "'d:\\\\Trical 4th sem\\\\Project\\\\Mask Detector'"
      ]
     },
     "execution_count": 187,
     "metadata": {},
     "output_type": "execute_result"
    }
   ],
   "source": [
    "os.getcwd()"
   ]
  },
  {
   "cell_type": "code",
   "execution_count": null,
   "metadata": {},
   "outputs": [],
   "source": [
    "os.chdir('NewDataCheck')"
   ]
  },
  {
   "cell_type": "code",
   "execution_count": null,
   "metadata": {},
   "outputs": [],
   "source": [
    "# print(len(os.listdir('../Mask Dataset/with_mask')),len(os.listdir('../Mask Dataset/without_mask')))"
   ]
  },
  {
   "cell_type": "code",
   "execution_count": null,
   "metadata": {},
   "outputs": [],
   "source": [
    "categories = ['with_mask','without_mask']"
   ]
  },
  {
   "cell_type": "code",
   "execution_count": null,
   "metadata": {},
   "outputs": [],
   "source": [
    "if os.path.isdir('train/with_mask') is False:\n",
    "    os.mkdir('train')\n",
    "    os.mkdir('valid')\n",
    "    os.mkdir('test')\n",
    "    \n",
    "    shutil.move('with_mask','train')\n",
    "    shutil.move('without_mask','train')\n",
    "    print(len(os.listdir('train/with_mask')),len(os.listdir('train/without_mask')))\n",
    "    input()\n",
    "    for category in categories:\n",
    "        os.mkdir(f'valid/{category}')\n",
    "        valid_samples = random.sample(os.listdir(f'train/{category}'),300)\n",
    "        for valid_items in valid_samples:\n",
    "            shutil.move(f'train/{category}/{valid_items}',f'valid/{category}')\n",
    "        \n",
    "        os.mkdir(f'test/{category}')\n",
    "        test_samples = random.sample(os.listdir(f'train/{category}'),5)\n",
    "        for test_items in test_samples:\n",
    "            shutil.move(f'train/{category}/{test_items}',f'test/{category}')\n",
    "            "
   ]
  },
  {
   "cell_type": "code",
   "execution_count": null,
   "metadata": {},
   "outputs": [],
   "source": [
    "if os.path.isdir('train/with_mask') is False:\n",
    "    os.mkdir('train')\n",
    "    os.mkdir('valid')\n",
    "    os.mkdir('test')\n",
    "    \n",
    "    shutil.move('with_mask','train')\n",
    "    shutil.move('without_mask','train')\n",
    "    print(len(os.listdir('train/with_mask')),len(os.listdir('train/without_mask')))\n",
    "    input()\n",
    "    for category in categories:\n",
    "        os.mkdir(f'valid/{category}')\n",
    "        valid_samples = random.sample(os.listdir(f'train/{category}'),300)\n",
    "        for valid_items in valid_samples:\n",
    "            shutil.move(f'train/{category}/{valid_items}',f'valid/{category}')\n",
    "        \n",
    "        os.mkdir(f'test/{category}')\n",
    "        test_samples = random.sample(os.listdir(f'train/{category}'),5)\n",
    "        for test_items in test_samples:\n",
    "            shutil.move(f'train/{category}/{test_items}',f'test/{category}')\n",
    "            "
   ]
  },
  {
   "cell_type": "code",
   "execution_count": null,
   "metadata": {},
   "outputs": [],
   "source": [
    "os.chdir('../')"
   ]
  },
  {
   "cell_type": "code",
   "execution_count": null,
   "metadata": {},
   "outputs": [],
   "source": [
    "from tensorflow.keras.layers import Input"
   ]
  },
  {
   "cell_type": "code",
   "execution_count": null,
   "metadata": {},
   "outputs": [
    {
     "name": "stdout",
     "output_type": "stream",
     "text": [
      "WARNING:tensorflow:`input_shape` is undefined or non-square, or `rows` is not in [96, 128, 160, 192, 224]. Weights for input shape (224, 224) will be loaded as the default.\n"
     ]
    }
   ],
   "source": [
    "mobile = mobilenet_v2.MobileNetV2(weights='imagenet',include_top=False,input_tensor=Input(shape=(224,224,3)))"
   ]
  },
  {
   "cell_type": "code",
   "execution_count": null,
   "metadata": {},
   "outputs": [],
   "source": [
    "from keras.applications.mobilenet_v2 import preprocess_input"
   ]
  },
  {
   "cell_type": "code",
   "execution_count": null,
   "metadata": {},
   "outputs": [],
   "source": [
    "train_batch = ImageDataGenerator(preprocessing_function=preprocess_input,rotation_range=20,zoom_range=0.15,width_shift_range=0.2,shear_range=0.15,horizontal_flip=True,vertical_flip=True,fill_mode='nearest')\n",
    "valid_batch = ImageDataGenerator(preprocessing_function=preprocess_input,rotation_range=20,zoom_range=0.15,width_shift_range=0.2,shear_range=0.15,horizontal_flip=True,vertical_flip=True,fill_mode='nearest')\n",
    "test_batch = ImageDataGenerator(preprocessing_function=preprocess_input,rotation_range=20,zoom_range=0.15,width_shift_range=0.2,shear_range=0.15,horizontal_flip=True,vertical_flip=True,fill_mode='nearest')"
   ]
  },
  {
   "cell_type": "code",
   "execution_count": null,
   "metadata": {},
   "outputs": [],
   "source": [
    "train_path = 'NewDataCheck/train'\n",
    "valid_path = 'NewDataCheck/valid'\n",
    "test_path = 'NewDataCheck/test'"
   ]
  },
  {
   "cell_type": "code",
   "execution_count": null,
   "metadata": {},
   "outputs": [
    {
     "name": "stdout",
     "output_type": "stream",
     "text": [
      "Found 4484 images belonging to 2 classes.\n",
      "Found 600 images belonging to 2 classes.\n",
      "Found 10 images belonging to 2 classes.\n"
     ]
    }
   ],
   "source": [
    "train_batch_preprocessed = train_batch.flow_from_directory(directory=train_path,target_size=(224,224),batch_size=12)\n",
    "valid_batch_preprocessed = valid_batch.flow_from_directory(directory=valid_path,target_size=(224,224),batch_size=12)\n",
    "test_batch_preprocessed = test_batch .flow_from_directory(directory=test_path,target_size=(224,224),batch_size=12,shuffle=False)"
   ]
  },
  {
   "cell_type": "code",
   "execution_count": null,
   "metadata": {},
   "outputs": [],
   "source": [
    "# for x,y in train_batch_preprocessed:\n",
    "#     print(x,y)"
   ]
  },
  {
   "cell_type": "code",
   "execution_count": null,
   "metadata": {},
   "outputs": [],
   "source": [
    "from keras.layers import AveragePooling2D\n",
    "from keras.layers import Flatten\n",
    "from keras.layers import Dropout"
   ]
  },
  {
   "cell_type": "code",
   "execution_count": null,
   "metadata": {},
   "outputs": [],
   "source": [
    "custom_cnn=mobile.output\n",
    "custom_cnn=AveragePooling2D(pool_size=(7,7))(custom_cnn)\n",
    "custom_cnn=Flatten(name='Flatten')(custom_cnn)\n",
    "custom_cnn=Dense(128,activation='relu')(custom_cnn)\n",
    "custom_cnn=Dropout(0.5)(custom_cnn)\n",
    "custom_cnn=Dense(2,activation='sigmoid')(custom_cnn)"
   ]
  },
  {
   "cell_type": "code",
   "execution_count": null,
   "metadata": {},
   "outputs": [],
   "source": [
    "cnn_custom_model = Model(inputs=mobile.input,outputs=custom_cnn)"
   ]
  },
  {
   "cell_type": "code",
   "execution_count": null,
   "metadata": {},
   "outputs": [],
   "source": [
    "cnn_custom_model.summary()"
   ]
  },
  {
   "cell_type": "code",
   "execution_count": null,
   "metadata": {},
   "outputs": [],
   "source": [
    "for layer in mobile.layers:\n",
    "    layer.trainable = False"
   ]
  },
  {
   "cell_type": "code",
   "execution_count": null,
   "metadata": {},
   "outputs": [],
   "source": [
    "from tensorflow.keras.optimizers import Adam"
   ]
  },
  {
   "cell_type": "code",
   "execution_count": null,
   "metadata": {},
   "outputs": [
    {
     "name": "stderr",
     "output_type": "stream",
     "text": [
      "C:\\Users\\User.LAPTOP-3EBUUP6S\\AppData\\Roaming\\Python\\Python39\\site-packages\\keras\\optimizer_v2\\adam.py:105: UserWarning: The `lr` argument is deprecated, use `learning_rate` instead.\n",
      "  super(Adam, self).__init__(name, **kwargs)\n"
     ]
    }
   ],
   "source": [
    "INIT_LR = 1e-4\n",
    "EPOCHS = 20\n",
    "cnn_custom_model.compile(loss=\"binary_crossentropy\", optimizer=Adam(lr=INIT_LR, decay=INIT_LR / EPOCHS),\n",
    "\tmetrics=[\"accuracy\"])"
   ]
  },
  {
   "cell_type": "code",
   "execution_count": null,
   "metadata": {},
   "outputs": [
    {
     "name": "stdout",
     "output_type": "stream",
     "text": [
      "Epoch 1/40\n",
      "1/1 [==============================] - 32s 32s/step - loss: 0.9304 - accuracy: 0.6000 - val_loss: 0.7648 - val_accuracy: 0.4400\n",
      "Epoch 2/40\n",
      "1/1 [==============================] - 21s 21s/step - loss: 0.9628 - accuracy: 0.3000 - val_loss: 0.7534 - val_accuracy: 0.4650\n",
      "Epoch 3/40\n",
      "1/1 [==============================] - 21s 21s/step - loss: 0.8471 - accuracy: 0.6000 - val_loss: 0.7376 - val_accuracy: 0.5150\n",
      "Epoch 4/40\n",
      "1/1 [==============================] - 23s 23s/step - loss: 0.9870 - accuracy: 0.4000 - val_loss: 0.7358 - val_accuracy: 0.5067\n",
      "Epoch 5/40\n",
      "1/1 [==============================] - 22s 22s/step - loss: 0.6838 - accuracy: 0.7000 - val_loss: 0.7390 - val_accuracy: 0.4800\n",
      "Epoch 6/40\n",
      "1/1 [==============================] - 20s 20s/step - loss: 0.7878 - accuracy: 0.6000 - val_loss: 0.7208 - val_accuracy: 0.5200\n",
      "Epoch 7/40\n",
      "1/1 [==============================] - 20s 20s/step - loss: 0.5606 - accuracy: 0.9000 - val_loss: 0.7178 - val_accuracy: 0.5050\n",
      "Epoch 8/40\n",
      "1/1 [==============================] - 20s 20s/step - loss: 0.4956 - accuracy: 0.8000 - val_loss: 0.7095 - val_accuracy: 0.5417\n",
      "Epoch 9/40\n",
      "1/1 [==============================] - 20s 20s/step - loss: 0.8540 - accuracy: 0.6000 - val_loss: 0.7012 - val_accuracy: 0.5583\n",
      "Epoch 10/40\n",
      "1/1 [==============================] - 19s 19s/step - loss: 0.7314 - accuracy: 0.6000 - val_loss: 0.6956 - val_accuracy: 0.5800\n",
      "Epoch 11/40\n",
      "1/1 [==============================] - 19s 19s/step - loss: 0.6037 - accuracy: 0.7000 - val_loss: 0.6947 - val_accuracy: 0.5633\n",
      "Epoch 12/40\n",
      "1/1 [==============================] - 19s 19s/step - loss: 0.7201 - accuracy: 0.7000 - val_loss: 0.6930 - val_accuracy: 0.5367\n",
      "Epoch 13/40\n",
      "1/1 [==============================] - 19s 19s/step - loss: 0.5967 - accuracy: 0.6000 - val_loss: 0.6793 - val_accuracy: 0.6017\n",
      "Epoch 14/40\n",
      "1/1 [==============================] - 20s 20s/step - loss: 0.7110 - accuracy: 0.5000 - val_loss: 0.6755 - val_accuracy: 0.6100\n",
      "Epoch 15/40\n",
      "1/1 [==============================] - 19s 19s/step - loss: 0.6542 - accuracy: 0.8000 - val_loss: 0.6696 - val_accuracy: 0.6283\n",
      "Epoch 16/40\n",
      "1/1 [==============================] - 20s 20s/step - loss: 0.7075 - accuracy: 0.7000 - val_loss: 0.6615 - val_accuracy: 0.6400\n",
      "Epoch 17/40\n",
      "1/1 [==============================] - 21s 21s/step - loss: 0.6285 - accuracy: 0.9000 - val_loss: 0.6613 - val_accuracy: 0.6417\n",
      "Epoch 18/40\n",
      "1/1 [==============================] - 20s 20s/step - loss: 0.5370 - accuracy: 0.7000 - val_loss: 0.6534 - val_accuracy: 0.6717\n",
      "Epoch 19/40\n",
      "1/1 [==============================] - 19s 19s/step - loss: 0.5695 - accuracy: 0.9000 - val_loss: 0.6445 - val_accuracy: 0.6617\n",
      "Epoch 20/40\n",
      "1/1 [==============================] - 20s 20s/step - loss: 0.5408 - accuracy: 0.8000 - val_loss: 0.6345 - val_accuracy: 0.6633\n",
      "Epoch 21/40\n",
      "1/1 [==============================] - 19s 19s/step - loss: 0.4573 - accuracy: 0.9000 - val_loss: 0.6341 - val_accuracy: 0.6850\n",
      "Epoch 22/40\n",
      "1/1 [==============================] - 19s 19s/step - loss: 0.6442 - accuracy: 0.6000 - val_loss: 0.6226 - val_accuracy: 0.7250\n",
      "Epoch 23/40\n",
      "1/1 [==============================] - 19s 19s/step - loss: 0.6236 - accuracy: 0.6000 - val_loss: 0.6233 - val_accuracy: 0.7283\n",
      "Epoch 24/40\n",
      "1/1 [==============================] - 19s 19s/step - loss: 0.4411 - accuracy: 0.9000 - val_loss: 0.6259 - val_accuracy: 0.7033\n",
      "Epoch 25/40\n",
      "1/1 [==============================] - 19s 19s/step - loss: 0.5575 - accuracy: 0.9000 - val_loss: 0.6256 - val_accuracy: 0.7050\n",
      "Epoch 26/40\n",
      "1/1 [==============================] - 19s 19s/step - loss: 0.5667 - accuracy: 0.7000 - val_loss: 0.6155 - val_accuracy: 0.7300\n",
      "Epoch 27/40\n",
      "1/1 [==============================] - 19s 19s/step - loss: 0.4750 - accuracy: 0.9000 - val_loss: 0.6063 - val_accuracy: 0.7300\n",
      "Epoch 28/40\n",
      "1/1 [==============================] - 19s 19s/step - loss: 0.5204 - accuracy: 0.8000 - val_loss: 0.6073 - val_accuracy: 0.7367\n",
      "Epoch 29/40\n",
      "1/1 [==============================] - 19s 19s/step - loss: 0.5468 - accuracy: 0.7000 - val_loss: 0.5942 - val_accuracy: 0.7650\n",
      "Epoch 30/40\n",
      "1/1 [==============================] - 19s 19s/step - loss: 0.6314 - accuracy: 0.7000 - val_loss: 0.5917 - val_accuracy: 0.7583\n",
      "Epoch 31/40\n",
      "1/1 [==============================] - 19s 19s/step - loss: 0.7581 - accuracy: 0.5000 - val_loss: 0.5814 - val_accuracy: 0.7750\n",
      "Epoch 32/40\n",
      "1/1 [==============================] - 19s 19s/step - loss: 0.3820 - accuracy: 0.9000 - val_loss: 0.5850 - val_accuracy: 0.7700\n",
      "Epoch 33/40\n",
      "1/1 [==============================] - 19s 19s/step - loss: 0.5568 - accuracy: 0.9000 - val_loss: 0.5729 - val_accuracy: 0.8000\n",
      "Epoch 34/40\n",
      "1/1 [==============================] - 19s 19s/step - loss: 0.3677 - accuracy: 0.9000 - val_loss: 0.5748 - val_accuracy: 0.7800\n",
      "Epoch 35/40\n",
      "1/1 [==============================] - 19s 19s/step - loss: 0.4301 - accuracy: 0.9000 - val_loss: 0.5740 - val_accuracy: 0.7733\n",
      "Epoch 36/40\n",
      "1/1 [==============================] - 19s 19s/step - loss: 0.5171 - accuracy: 0.7000 - val_loss: 0.5826 - val_accuracy: 0.7700\n",
      "Epoch 37/40\n",
      "1/1 [==============================] - 19s 19s/step - loss: 0.4084 - accuracy: 1.0000 - val_loss: 0.5722 - val_accuracy: 0.7983\n",
      "Epoch 38/40\n",
      "1/1 [==============================] - 19s 19s/step - loss: 0.4651 - accuracy: 0.9000 - val_loss: 0.5697 - val_accuracy: 0.7900\n",
      "Epoch 39/40\n",
      "1/1 [==============================] - 21s 21s/step - loss: 0.3647 - accuracy: 1.0000 - val_loss: 0.5537 - val_accuracy: 0.8083\n",
      "Epoch 40/40\n",
      "1/1 [==============================] - 22s 22s/step - loss: 0.4474 - accuracy: 0.9000 - val_loss: 0.5534 - val_accuracy: 0.8133\n"
     ]
    }
   ],
   "source": [
    "trainedModel=cnn_custom_model.fit(x=test_batch_preprocessed,validation_data=valid_batch_preprocessed,epochs=40)"
   ]
  },
  {
   "cell_type": "code",
   "execution_count": null,
   "metadata": {},
   "outputs": [],
   "source": [
    "from keras.preprocessing.image import load_img\n",
    "from keras.preprocessing.image import img_to_array \n",
    "from numpy import  expand_dims"
   ]
  },
  {
   "cell_type": "code",
   "execution_count": null,
   "metadata": {},
   "outputs": [
    {
     "data": {
      "text/plain": [
       "'d:\\\\Trical 4th sem\\\\Project\\\\Mask Detector'"
      ]
     },
     "execution_count": 209,
     "metadata": {},
     "output_type": "execute_result"
    }
   ],
   "source": [
    "os.getcwd()"
   ]
  },
  {
   "cell_type": "code",
   "execution_count": null,
   "metadata": {},
   "outputs": [],
   "source": [
    "real_testImg = load_img(path='Dataset/test_img3.jpg',target_size=(224,224))\n",
    "real_testImg_Array = img_to_array(real_testImg)\n",
    "real_testImg_Expanded = expand_dims(real_testImg_Array,axis=0)"
   ]
  },
  {
   "cell_type": "code",
   "execution_count": null,
   "metadata": {},
   "outputs": [
    {
     "name": "stdout",
     "output_type": "stream",
     "text": [
      "[[0.22795978 0.6762416 ]]\n"
     ]
    }
   ],
   "source": [
    "prediction=cnn_custom_model.predict(x=real_testImg_Expanded)\n",
    "print(prediction)"
   ]
  },
  {
   "cell_type": "code",
   "execution_count": null,
   "metadata": {},
   "outputs": [
    {
     "data": {
      "text/plain": [
       "0.9042013799999999"
      ]
     },
     "execution_count": 230,
     "metadata": {},
     "output_type": "execute_result"
    }
   ],
   "source": [
    "sum([0.22795978,0.6762416 ])"
   ]
  },
  {
   "cell_type": "code",
   "execution_count": null,
   "metadata": {},
   "outputs": [],
   "source": [
    "# test_batch_preprocessed.class_indices"
   ]
  },
  {
   "cell_type": "code",
   "execution_count": null,
   "metadata": {},
   "outputs": [
    {
     "data": {
      "text/plain": [
       "0.6762416"
      ]
     },
     "execution_count": 226,
     "metadata": {},
     "output_type": "execute_result"
    }
   ],
   "source": [
    "max(prediction[0])"
   ]
  },
  {
   "cell_type": "code",
   "execution_count": null,
   "metadata": {},
   "outputs": [],
   "source": [
    "cnn_custom_model.save(r'D:\\Trical 4th sem\\Project\\newBuiltModel\\customModel.model',save_format='h5')"
   ]
  },
  {
   "cell_type": "code",
   "execution_count": null,
   "metadata": {},
   "outputs": [],
   "source": [
    "from matplotlib import pyplot as plt"
   ]
  },
  {
   "cell_type": "code",
   "execution_count": null,
   "metadata": {},
   "outputs": [
    {
     "data": {
      "image/png": "[encoded data removed]",
      "text/plain": [
       "<Figure size 432x288 with 1 Axes>"
      ]
     },
     "metadata": {},
     "output_type": "display_data"
    }
   ],
   "source": [
    "N = 40\n",
    "plt.style.use('ggplot')\n",
    "plt.figure()\n",
    "plt.plot(numpy.arange(0,N),trainedModel.history['loss'],label=\"train_loss\")\n",
    "plt.plot(numpy.arange(0,N),trainedModel.history['val_loss'],label=\"val_loss\")\n",
    "plt.plot(numpy.arange(0,N),trainedModel.history['accuracy'],label=\"train_acc\")\n",
    "plt.plot(numpy.arange(0,N),trainedModel.history['val_accuracy'],label=\"val_acc\")\n",
    "plt.title(\"Training/Val Loss and Accuracy\")\n",
    "plt.xlabel(\"Epochs\")\n",
    "plt.ylabel(\"Loss/Accuracy\")\n",
    "plt.legend(loc=\"lower left\")\n",
    "plt.savefig(\"plot.png\")\n"
   ]
  },
  {
   "cell_type": "code",
   "execution_count": null,
   "metadata": {},
   "outputs": [],
   "source": [
    "from sklearn.metrics import classification_report "
   ]
  },
  {
   "cell_type": "code",
   "execution_count": null,
   "metadata": {},
   "outputs": [],
   "source": [
    "# test_X = []\n",
    "# test_Y = []"
   ]
  },
  {
   "cell_type": "code",
   "execution_count": null,
   "metadata": {},
   "outputs": [],
   "source": [
    "# for X,Y in test_batch_preprocessed:\n",
    "#     test_X.append(X)\n",
    "#     test_Y.append(Y)\n",
    "    \n",
    "# test_X = numpy.array(test_X)\n",
    "# test_Y = numpy.array(test_Y)\n",
    "\n"
   ]
  },
  {
   "cell_type": "code",
   "execution_count": null,
   "metadata": {},
   "outputs": [
    {
     "name": "stdout",
     "output_type": "stream",
     "text": [
      "['with_mask' 'without_mask']\n"
     ]
    }
   ],
   "source": [
    "print(numpy.array(['with_mask','without_mask']))"
   ]
  },
  {
   "cell_type": "code",
   "execution_count": null,
   "metadata": {},
   "outputs": [
    {
     "name": "stdout",
     "output_type": "stream",
     "text": [
      "[0 0 0 0 0 1 1 1 1 1]\n",
      "              precision    recall  f1-score   support\n",
      "\n",
      "           0       1.00      1.00      1.00         5\n",
      "           0       1.00      1.00      1.00         5\n",
      "           0       1.00      1.00      1.00         5\n",
      "           0       1.00      1.00      1.00         5\n",
      "           0       1.00      1.00      1.00         5\n",
      "           1       1.00      1.00      1.00         5\n",
      "           1       1.00      1.00      1.00         5\n",
      "           1       1.00      1.00      1.00         5\n",
      "           1       1.00      1.00      1.00         5\n",
      "           1       1.00      1.00      1.00         5\n",
      "\n",
      "    accuracy                           1.00        50\n",
      "   macro avg       1.00      1.00      1.00        50\n",
      "weighted avg       1.00      1.00      1.00        50\n",
      "\n"
     ]
    }
   ],
   "source": [
    "predict_many = cnn_custom_model.predict(x=test_batch_preprocessed,batch_size=12)\n",
    "predict_many = numpy.argmax(predict_many,axis=1)\n",
    "print(test_batch_preprocessed.classes)\n",
    "print(classification_report(test_batch_preprocessed.classes,y_pred=predict_many,labels=test_batch_preprocessed.classes))"
   ]
  },
  {
   "cell_type": "code",
   "execution_count": null,
   "metadata": {},
   "outputs": [],
   "source": []
  }
 ],
 "metadata": {
  "interpreter": {
   "hash": "81794d4967e6c3204c66dcd87b604927b115b27c00565d3d43f05ba2f3a2cb0d"
  },
  "kernelspec": {
   "display_name": "Python 3.9.0 64-bit",
   "language": "python",
   "name": "python3"
  },
  "language_info": {
   "codemirror_mode": {
    "name": "ipython",
    "version": 3
   },
   "file_extension": ".py",
   "mimetype": "text/x-python",
   "name": "python",
   "nbconvert_exporter": "python",
   "pygments_lexer": "ipython3",
   "version": "3.9.0"
  },
  "orig_nbformat": 4
 },
 "nbformat": 4,
 "nbformat_minor": 2
}
