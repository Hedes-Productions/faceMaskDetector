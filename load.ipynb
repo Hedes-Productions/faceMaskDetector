{
 "cells": [
  {
   "cell_type": "code",
   "execution_count": null,
   "metadata": {},
   "outputs": [],
   "source": [
    "cnn.save(r'D:\\Trical 4th sem\\Project\\newBuiltModel\\customModel.model',save_format='h5')\n",
    "\n",
    "from keras.preprocessing.image import load_img\n",
    "from keras.preprocessing.image import img_to_array \n",
    "from numpy import  expand_dims\n",
    "\n",
    "real_testImg = load_img(path='Dataset/test_img3.jpg',target_size=(224,224))\n",
    "real_testImg_Array = img_to_array(real_testImg)\n",
    "real_testImg_Expanded = expand_dims(real_testImg_Array,axis=0)\n",
    "prediction=cnn.predict(x=real_testImg_Expanded)\n"
   ]
  }
 ],
 "metadata": {
  "kernelspec": {
   "display_name": "Python 3.9.0 64-bit",
   "language": "python",
   "name": "python3"
  },
  "language_info": {
   "name": "python",
   "version": "3.9.0"
  },
  "orig_nbformat": 4,
  "vscode": {
   "interpreter": {
    "hash": "81794d4967e6c3204c66dcd87b604927b115b27c00565d3d43f05ba2f3a2cb0d"
   }
  }
 },
 "nbformat": 4,
 "nbformat_minor": 2
}
